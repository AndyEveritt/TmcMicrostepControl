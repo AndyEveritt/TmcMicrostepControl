{
 "cells": [
  {
   "cell_type": "code",
   "execution_count": 1,
   "metadata": {},
   "outputs": [
    {
     "name": "stdout",
     "output_type": "stream",
     "text": [
      "%opts magic unavailable (pyparsing cannot be imported)\n",
      "%compositor magic unavailable (pyparsing cannot be imported)\n"
     ]
    },
    {
     "data": {
      "text/html": [
       "<script type=\"esms-options\">{\"shimMode\": true}</script><style>*[data-root-id],\n",
       "*[data-root-id] > * {\n",
       "  box-sizing: border-box;\n",
       "  font-family: var(--jp-ui-font-family);\n",
       "  font-size: var(--jp-ui-font-size1);\n",
       "  color: var(--vscode-editor-foreground, var(--jp-ui-font-color1));\n",
       "}\n",
       "\n",
       "/* Override VSCode background color */\n",
       ".cell-output-ipywidget-background:has(\n",
       "    > .cell-output-ipywidget-background > .lm-Widget > *[data-root-id]\n",
       "  ),\n",
       ".cell-output-ipywidget-background:has(> .lm-Widget > *[data-root-id]) {\n",
       "  background-color: transparent !important;\n",
       "}\n",
       "</style>"
      ]
     },
     "metadata": {},
     "output_type": "display_data"
    },
    {
     "data": {
      "application/javascript": "(function(root) {\n  function now() {\n    return new Date();\n  }\n\n  const force = true;\n  const py_version = '3.5.2'.replace('rc', '-rc.').replace('.dev', '-dev.');\n  const reloading = false;\n  const Bokeh = root.Bokeh;\n\n  // Set a timeout for this load but only if we are not already initializing\n  if (typeof (root._bokeh_timeout) === \"undefined\" || (force || !root._bokeh_is_initializing)) {\n    root._bokeh_timeout = Date.now() + 5000;\n    root._bokeh_failed_load = false;\n  }\n\n  function run_callbacks() {\n    try {\n      root._bokeh_onload_callbacks.forEach(function(callback) {\n        if (callback != null)\n          callback();\n      });\n    } finally {\n      delete root._bokeh_onload_callbacks;\n    }\n    console.debug(\"Bokeh: all callbacks have finished\");\n  }\n\n  function load_libs(css_urls, js_urls, js_modules, js_exports, callback) {\n    if (css_urls == null) css_urls = [];\n    if (js_urls == null) js_urls = [];\n    if (js_modules == null) js_modules = [];\n    if (js_exports == null) js_exports = {};\n\n    root._bokeh_onload_callbacks.push(callback);\n\n    if (root._bokeh_is_loading > 0) {\n      // Don't load bokeh if it is still initializing\n      console.debug(\"Bokeh: BokehJS is being loaded, scheduling callback at\", now());\n      return null;\n    } else if (js_urls.length === 0 && js_modules.length === 0 && Object.keys(js_exports).length === 0) {\n      // There is nothing to load\n      run_callbacks();\n      return null;\n    }\n\n    function on_load() {\n      root._bokeh_is_loading--;\n      if (root._bokeh_is_loading === 0) {\n        console.debug(\"Bokeh: all BokehJS libraries/stylesheets loaded\");\n        run_callbacks()\n      }\n    }\n    window._bokeh_on_load = on_load\n\n    function on_error(e) {\n      const src_el = e.srcElement\n      console.error(\"failed to load \" + (src_el.href || src_el.src));\n    }\n\n    const skip = [];\n    if (window.requirejs) {\n      window.requirejs.config({'packages': {}, 'paths': {}, 'shim': {}});\n      root._bokeh_is_loading = css_urls.length + 0;\n    } else {\n      root._bokeh_is_loading = css_urls.length + js_urls.length + js_modules.length + Object.keys(js_exports).length;\n    }\n\n    const existing_stylesheets = []\n    const links = document.getElementsByTagName('link')\n    for (let i = 0; i < links.length; i++) {\n      const link = links[i]\n      if (link.href != null) {\n        existing_stylesheets.push(link.href)\n      }\n    }\n    for (let i = 0; i < css_urls.length; i++) {\n      const url = css_urls[i];\n      const escaped = encodeURI(url)\n      if (existing_stylesheets.indexOf(escaped) !== -1) {\n        on_load()\n        continue;\n      }\n      const element = document.createElement(\"link\");\n      element.onload = on_load;\n      element.onerror = on_error;\n      element.rel = \"stylesheet\";\n      element.type = \"text/css\";\n      element.href = url;\n      console.debug(\"Bokeh: injecting link tag for BokehJS stylesheet: \", url);\n      document.body.appendChild(element);\n    }    var existing_scripts = []\n    const scripts = document.getElementsByTagName('script')\n    for (let i = 0; i < scripts.length; i++) {\n      var script = scripts[i]\n      if (script.src != null) {\n        existing_scripts.push(script.src)\n      }\n    }\n    for (let i = 0; i < js_urls.length; i++) {\n      const url = js_urls[i];\n      const escaped = encodeURI(url)\n      if (skip.indexOf(escaped) !== -1 || existing_scripts.indexOf(escaped) !== -1) {\n        if (!window.requirejs) {\n          on_load();\n        }\n        continue;\n      }\n      const element = document.createElement('script');\n      element.onload = on_load;\n      element.onerror = on_error;\n      element.async = false;\n      element.src = url;\n      console.debug(\"Bokeh: injecting script tag for BokehJS library: \", url);\n      document.head.appendChild(element);\n    }\n    for (let i = 0; i < js_modules.length; i++) {\n      const url = js_modules[i];\n      const escaped = encodeURI(url)\n      if (skip.indexOf(escaped) !== -1 || existing_scripts.indexOf(escaped) !== -1) {\n        if (!window.requirejs) {\n          on_load();\n        }\n        continue;\n      }\n      var element = document.createElement('script');\n      element.onload = on_load;\n      element.onerror = on_error;\n      element.async = false;\n      element.src = url;\n      element.type = \"module\";\n      console.debug(\"Bokeh: injecting script tag for BokehJS library: \", url);\n      document.head.appendChild(element);\n    }\n    for (const name in js_exports) {\n      const url = js_exports[name];\n      const escaped = encodeURI(url)\n      if (skip.indexOf(escaped) >= 0 || root[name] != null) {\n        if (!window.requirejs) {\n          on_load();\n        }\n        continue;\n      }\n      var element = document.createElement('script');\n      element.onerror = on_error;\n      element.async = false;\n      element.type = \"module\";\n      console.debug(\"Bokeh: injecting script tag for BokehJS library: \", url);\n      element.textContent = `\n      import ${name} from \"${url}\"\n      window.${name} = ${name}\n      window._bokeh_on_load()\n      `\n      document.head.appendChild(element);\n    }\n    if (!js_urls.length && !js_modules.length) {\n      on_load()\n    }\n  };\n\n  function inject_raw_css(css) {\n    const element = document.createElement(\"style\");\n    element.appendChild(document.createTextNode(css));\n    document.body.appendChild(element);\n  }\n\n  const js_urls = [\"https://cdn.holoviz.org/panel/1.5.0/dist/bundled/reactiveesm/es-module-shims@^1.10.0/dist/es-module-shims.min.js\", \"https://cdn.bokeh.org/bokeh/release/bokeh-3.5.2.min.js\", \"https://cdn.bokeh.org/bokeh/release/bokeh-gl-3.5.2.min.js\", \"https://cdn.bokeh.org/bokeh/release/bokeh-widgets-3.5.2.min.js\", \"https://cdn.bokeh.org/bokeh/release/bokeh-tables-3.5.2.min.js\", \"https://cdn.holoviz.org/panel/1.5.0/dist/panel.min.js\"];\n  const js_modules = [];\n  const js_exports = {};\n  const css_urls = [];\n  const inline_js = [    function(Bokeh) {\n      Bokeh.set_log_level(\"info\");\n    },\nfunction(Bokeh) {} // ensure no trailing comma for IE\n  ];\n\n  function run_inline_js() {\n    if ((root.Bokeh !== undefined) || (force === true)) {\n      for (let i = 0; i < inline_js.length; i++) {\n        try {\n          inline_js[i].call(root, root.Bokeh);\n        } catch(e) {\n          if (!reloading) {\n            throw e;\n          }\n        }\n      }\n      // Cache old bokeh versions\n      if (Bokeh != undefined && !reloading) {\n        var NewBokeh = root.Bokeh;\n        if (Bokeh.versions === undefined) {\n          Bokeh.versions = new Map();\n        }\n        if (NewBokeh.version !== Bokeh.version) {\n          Bokeh.versions.set(NewBokeh.version, NewBokeh)\n        }\n        root.Bokeh = Bokeh;\n      }\n    } else if (Date.now() < root._bokeh_timeout) {\n      setTimeout(run_inline_js, 100);\n    } else if (!root._bokeh_failed_load) {\n      console.log(\"Bokeh: BokehJS failed to load within specified timeout.\");\n      root._bokeh_failed_load = true;\n    }\n    root._bokeh_is_initializing = false\n  }\n\n  function load_or_wait() {\n    // Implement a backoff loop that tries to ensure we do not load multiple\n    // versions of Bokeh and its dependencies at the same time.\n    // In recent versions we use the root._bokeh_is_initializing flag\n    // to determine whether there is an ongoing attempt to initialize\n    // bokeh, however for backward compatibility we also try to ensure\n    // that we do not start loading a newer (Panel>=1.0 and Bokeh>3) version\n    // before older versions are fully initialized.\n    if (root._bokeh_is_initializing && Date.now() > root._bokeh_timeout) {\n      // If the timeout and bokeh was not successfully loaded we reset\n      // everything and try loading again\n      root._bokeh_timeout = Date.now() + 5000;\n      root._bokeh_is_initializing = false;\n      root._bokeh_onload_callbacks = undefined;\n      root._bokeh_is_loading = 0\n      console.log(\"Bokeh: BokehJS was loaded multiple times but one version failed to initialize.\");\n      load_or_wait();\n    } else if (root._bokeh_is_initializing || (typeof root._bokeh_is_initializing === \"undefined\" && root._bokeh_onload_callbacks !== undefined)) {\n      setTimeout(load_or_wait, 100);\n    } else {\n      root._bokeh_is_initializing = true\n      root._bokeh_onload_callbacks = []\n      const bokeh_loaded = root.Bokeh != null && (root.Bokeh.version === py_version || (root.Bokeh.versions !== undefined && root.Bokeh.versions.has(py_version)));\n      if (!reloading && !bokeh_loaded) {\n        if (root.Bokeh) {\n          root.Bokeh = undefined;\n        }\n        console.debug(\"Bokeh: BokehJS not loaded, scheduling load and callback at\", now());\n      }\n      load_libs(css_urls, js_urls, js_modules, js_exports, function() {\n        console.debug(\"Bokeh: BokehJS plotting callback run at\", now());\n        run_inline_js();\n      });\n    }\n  }\n  // Give older versions of the autoload script a head-start to ensure\n  // they initialize before we start loading newer version.\n  setTimeout(load_or_wait, 100)\n}(window));",
      "application/vnd.holoviews_load.v0+json": ""
     },
     "metadata": {},
     "output_type": "display_data"
    },
    {
     "data": {
      "application/javascript": "\nif ((window.PyViz === undefined) || (window.PyViz instanceof HTMLElement)) {\n  window.PyViz = {comms: {}, comm_status:{}, kernels:{}, receivers: {}, plot_index: []}\n}\n\n\n    function JupyterCommManager() {\n    }\n\n    JupyterCommManager.prototype.register_target = function(plot_id, comm_id, msg_handler) {\n      if (window.comm_manager || ((window.Jupyter !== undefined) && (Jupyter.notebook.kernel != null))) {\n        var comm_manager = window.comm_manager || Jupyter.notebook.kernel.comm_manager;\n        comm_manager.register_target(comm_id, function(comm) {\n          comm.on_msg(msg_handler);\n        });\n      } else if ((plot_id in window.PyViz.kernels) && (window.PyViz.kernels[plot_id])) {\n        window.PyViz.kernels[plot_id].registerCommTarget(comm_id, function(comm) {\n          comm.onMsg = msg_handler;\n        });\n      } else if (typeof google != 'undefined' && google.colab.kernel != null) {\n        google.colab.kernel.comms.registerTarget(comm_id, (comm) => {\n          var messages = comm.messages[Symbol.asyncIterator]();\n          function processIteratorResult(result) {\n            var message = result.value;\n            console.log(message)\n            var content = {data: message.data, comm_id};\n            var buffers = []\n            for (var buffer of message.buffers || []) {\n              buffers.push(new DataView(buffer))\n            }\n            var metadata = message.metadata || {};\n            var msg = {content, buffers, metadata}\n            msg_handler(msg);\n            return messages.next().then(processIteratorResult);\n          }\n          return messages.next().then(processIteratorResult);\n        })\n      }\n    }\n\n    JupyterCommManager.prototype.get_client_comm = function(plot_id, comm_id, msg_handler) {\n      if (comm_id in window.PyViz.comms) {\n        return window.PyViz.comms[comm_id];\n      } else if (window.comm_manager || ((window.Jupyter !== undefined) && (Jupyter.notebook.kernel != null))) {\n        var comm_manager = window.comm_manager || Jupyter.notebook.kernel.comm_manager;\n        var comm = comm_manager.new_comm(comm_id, {}, {}, {}, comm_id);\n        if (msg_handler) {\n          comm.on_msg(msg_handler);\n        }\n      } else if ((plot_id in window.PyViz.kernels) && (window.PyViz.kernels[plot_id])) {\n        var comm = window.PyViz.kernels[plot_id].connectToComm(comm_id);\n        comm.open();\n        if (msg_handler) {\n          comm.onMsg = msg_handler;\n        }\n      } else if (typeof google != 'undefined' && google.colab.kernel != null) {\n        var comm_promise = google.colab.kernel.comms.open(comm_id)\n        comm_promise.then((comm) => {\n          window.PyViz.comms[comm_id] = comm;\n          if (msg_handler) {\n            var messages = comm.messages[Symbol.asyncIterator]();\n            function processIteratorResult(result) {\n              var message = result.value;\n              var content = {data: message.data};\n              var metadata = message.metadata || {comm_id};\n              var msg = {content, metadata}\n              msg_handler(msg);\n              return messages.next().then(processIteratorResult);\n            }\n            return messages.next().then(processIteratorResult);\n          }\n        }) \n        var sendClosure = (data, metadata, buffers, disposeOnDone) => {\n          return comm_promise.then((comm) => {\n            comm.send(data, metadata, buffers, disposeOnDone);\n          });\n        };\n        var comm = {\n          send: sendClosure\n        };\n      }\n      window.PyViz.comms[comm_id] = comm;\n      return comm;\n    }\n    window.PyViz.comm_manager = new JupyterCommManager();\n    \n\n\nvar JS_MIME_TYPE = 'application/javascript';\nvar HTML_MIME_TYPE = 'text/html';\nvar EXEC_MIME_TYPE = 'application/vnd.holoviews_exec.v0+json';\nvar CLASS_NAME = 'output';\n\n/**\n * Render data to the DOM node\n */\nfunction render(props, node) {\n  var div = document.createElement(\"div\");\n  var script = document.createElement(\"script\");\n  node.appendChild(div);\n  node.appendChild(script);\n}\n\n/**\n * Handle when a new output is added\n */\nfunction handle_add_output(event, handle) {\n  var output_area = handle.output_area;\n  var output = handle.output;\n  if ((output.data == undefined) || (!output.data.hasOwnProperty(EXEC_MIME_TYPE))) {\n    return\n  }\n  var id = output.metadata[EXEC_MIME_TYPE][\"id\"];\n  var toinsert = output_area.element.find(\".\" + CLASS_NAME.split(' ')[0]);\n  if (id !== undefined) {\n    var nchildren = toinsert.length;\n    var html_node = toinsert[nchildren-1].children[0];\n    html_node.innerHTML = output.data[HTML_MIME_TYPE];\n    var scripts = [];\n    var nodelist = html_node.querySelectorAll(\"script\");\n    for (var i in nodelist) {\n      if (nodelist.hasOwnProperty(i)) {\n        scripts.push(nodelist[i])\n      }\n    }\n\n    scripts.forEach( function (oldScript) {\n      var newScript = document.createElement(\"script\");\n      var attrs = [];\n      var nodemap = oldScript.attributes;\n      for (var j in nodemap) {\n        if (nodemap.hasOwnProperty(j)) {\n          attrs.push(nodemap[j])\n        }\n      }\n      attrs.forEach(function(attr) { newScript.setAttribute(attr.name, attr.value) });\n      newScript.appendChild(document.createTextNode(oldScript.innerHTML));\n      oldScript.parentNode.replaceChild(newScript, oldScript);\n    });\n    if (JS_MIME_TYPE in output.data) {\n      toinsert[nchildren-1].children[1].textContent = output.data[JS_MIME_TYPE];\n    }\n    output_area._hv_plot_id = id;\n    if ((window.Bokeh !== undefined) && (id in Bokeh.index)) {\n      window.PyViz.plot_index[id] = Bokeh.index[id];\n    } else {\n      window.PyViz.plot_index[id] = null;\n    }\n  } else if (output.metadata[EXEC_MIME_TYPE][\"server_id\"] !== undefined) {\n    var bk_div = document.createElement(\"div\");\n    bk_div.innerHTML = output.data[HTML_MIME_TYPE];\n    var script_attrs = bk_div.children[0].attributes;\n    for (var i = 0; i < script_attrs.length; i++) {\n      toinsert[toinsert.length - 1].childNodes[1].setAttribute(script_attrs[i].name, script_attrs[i].value);\n    }\n    // store reference to server id on output_area\n    output_area._bokeh_server_id = output.metadata[EXEC_MIME_TYPE][\"server_id\"];\n  }\n}\n\n/**\n * Handle when an output is cleared or removed\n */\nfunction handle_clear_output(event, handle) {\n  var id = handle.cell.output_area._hv_plot_id;\n  var server_id = handle.cell.output_area._bokeh_server_id;\n  if (((id === undefined) || !(id in PyViz.plot_index)) && (server_id !== undefined)) { return; }\n  var comm = window.PyViz.comm_manager.get_client_comm(\"hv-extension-comm\", \"hv-extension-comm\", function () {});\n  if (server_id !== null) {\n    comm.send({event_type: 'server_delete', 'id': server_id});\n    return;\n  } else if (comm !== null) {\n    comm.send({event_type: 'delete', 'id': id});\n  }\n  delete PyViz.plot_index[id];\n  if ((window.Bokeh !== undefined) & (id in window.Bokeh.index)) {\n    var doc = window.Bokeh.index[id].model.document\n    doc.clear();\n    const i = window.Bokeh.documents.indexOf(doc);\n    if (i > -1) {\n      window.Bokeh.documents.splice(i, 1);\n    }\n  }\n}\n\n/**\n * Handle kernel restart event\n */\nfunction handle_kernel_cleanup(event, handle) {\n  delete PyViz.comms[\"hv-extension-comm\"];\n  window.PyViz.plot_index = {}\n}\n\n/**\n * Handle update_display_data messages\n */\nfunction handle_update_output(event, handle) {\n  handle_clear_output(event, {cell: {output_area: handle.output_area}})\n  handle_add_output(event, handle)\n}\n\nfunction register_renderer(events, OutputArea) {\n  function append_mime(data, metadata, element) {\n    // create a DOM node to render to\n    var toinsert = this.create_output_subarea(\n    metadata,\n    CLASS_NAME,\n    EXEC_MIME_TYPE\n    );\n    this.keyboard_manager.register_events(toinsert);\n    // Render to node\n    var props = {data: data, metadata: metadata[EXEC_MIME_TYPE]};\n    render(props, toinsert[0]);\n    element.append(toinsert);\n    return toinsert\n  }\n\n  events.on('output_added.OutputArea', handle_add_output);\n  events.on('output_updated.OutputArea', handle_update_output);\n  events.on('clear_output.CodeCell', handle_clear_output);\n  events.on('delete.Cell', handle_clear_output);\n  events.on('kernel_ready.Kernel', handle_kernel_cleanup);\n\n  OutputArea.prototype.register_mime_type(EXEC_MIME_TYPE, append_mime, {\n    safe: true,\n    index: 0\n  });\n}\n\nif (window.Jupyter !== undefined) {\n  try {\n    var events = require('base/js/events');\n    var OutputArea = require('notebook/js/outputarea').OutputArea;\n    if (OutputArea.prototype.mime_types().indexOf(EXEC_MIME_TYPE) == -1) {\n      register_renderer(events, OutputArea);\n    }\n  } catch(err) {\n  }\n}\n",
      "application/vnd.holoviews_load.v0+json": ""
     },
     "metadata": {},
     "output_type": "display_data"
    },
    {
     "data": {
      "application/vnd.holoviews_exec.v0+json": "",
      "text/html": [
       "<div id='p1002'>\n",
       "  <div id=\"ab8e7702-cf15-4016-8220-9872d540fbd8\" data-root-id=\"p1002\" style=\"display: contents;\"></div>\n",
       "</div>\n",
       "<script type=\"application/javascript\">(function(root) {\n",
       "  var docs_json = {\"83d3ca29-a85e-4c97-93f6-3ff93ba947a6\":{\"version\":\"3.5.2\",\"title\":\"Bokeh Application\",\"roots\":[{\"type\":\"object\",\"name\":\"panel.models.browser.BrowserInfo\",\"id\":\"p1002\"},{\"type\":\"object\",\"name\":\"panel.models.comm_manager.CommManager\",\"id\":\"p1003\",\"attributes\":{\"plot_id\":\"p1002\",\"comm_id\":\"e0ce9b4ea9624d1aaff092fdee8ddf5c\",\"client_comm_id\":\"f641cea6b7ff408bab939399a828cdde\"}}],\"defs\":[{\"type\":\"model\",\"name\":\"ReactiveHTML1\"},{\"type\":\"model\",\"name\":\"FlexBox1\",\"properties\":[{\"name\":\"align_content\",\"kind\":\"Any\",\"default\":\"flex-start\"},{\"name\":\"align_items\",\"kind\":\"Any\",\"default\":\"flex-start\"},{\"name\":\"flex_direction\",\"kind\":\"Any\",\"default\":\"row\"},{\"name\":\"flex_wrap\",\"kind\":\"Any\",\"default\":\"wrap\"},{\"name\":\"gap\",\"kind\":\"Any\",\"default\":\"\"},{\"name\":\"justify_content\",\"kind\":\"Any\",\"default\":\"flex-start\"}]},{\"type\":\"model\",\"name\":\"FloatPanel1\",\"properties\":[{\"name\":\"config\",\"kind\":\"Any\",\"default\":{\"type\":\"map\"}},{\"name\":\"contained\",\"kind\":\"Any\",\"default\":true},{\"name\":\"position\",\"kind\":\"Any\",\"default\":\"right-top\"},{\"name\":\"offsetx\",\"kind\":\"Any\",\"default\":null},{\"name\":\"offsety\",\"kind\":\"Any\",\"default\":null},{\"name\":\"theme\",\"kind\":\"Any\",\"default\":\"primary\"},{\"name\":\"status\",\"kind\":\"Any\",\"default\":\"normalized\"}]},{\"type\":\"model\",\"name\":\"GridStack1\",\"properties\":[{\"name\":\"mode\",\"kind\":\"Any\",\"default\":\"warn\"},{\"name\":\"ncols\",\"kind\":\"Any\",\"default\":null},{\"name\":\"nrows\",\"kind\":\"Any\",\"default\":null},{\"name\":\"allow_resize\",\"kind\":\"Any\",\"default\":true},{\"name\":\"allow_drag\",\"kind\":\"Any\",\"default\":true},{\"name\":\"state\",\"kind\":\"Any\",\"default\":[]}]},{\"type\":\"model\",\"name\":\"drag1\",\"properties\":[{\"name\":\"slider_width\",\"kind\":\"Any\",\"default\":5},{\"name\":\"slider_color\",\"kind\":\"Any\",\"default\":\"black\"},{\"name\":\"value\",\"kind\":\"Any\",\"default\":50}]},{\"type\":\"model\",\"name\":\"click1\",\"properties\":[{\"name\":\"terminal_output\",\"kind\":\"Any\",\"default\":\"\"},{\"name\":\"debug_name\",\"kind\":\"Any\",\"default\":\"\"},{\"name\":\"clears\",\"kind\":\"Any\",\"default\":0}]},{\"type\":\"model\",\"name\":\"FastWrapper1\",\"properties\":[{\"name\":\"object\",\"kind\":\"Any\",\"default\":null},{\"name\":\"style\",\"kind\":\"Any\",\"default\":null}]},{\"type\":\"model\",\"name\":\"NotificationAreaBase1\",\"properties\":[{\"name\":\"js_events\",\"kind\":\"Any\",\"default\":{\"type\":\"map\"}},{\"name\":\"position\",\"kind\":\"Any\",\"default\":\"bottom-right\"},{\"name\":\"_clear\",\"kind\":\"Any\",\"default\":0}]},{\"type\":\"model\",\"name\":\"NotificationArea1\",\"properties\":[{\"name\":\"js_events\",\"kind\":\"Any\",\"default\":{\"type\":\"map\"}},{\"name\":\"notifications\",\"kind\":\"Any\",\"default\":[]},{\"name\":\"position\",\"kind\":\"Any\",\"default\":\"bottom-right\"},{\"name\":\"_clear\",\"kind\":\"Any\",\"default\":0},{\"name\":\"types\",\"kind\":\"Any\",\"default\":[{\"type\":\"map\",\"entries\":[[\"type\",\"warning\"],[\"background\",\"#ffc107\"],[\"icon\",{\"type\":\"map\",\"entries\":[[\"className\",\"fas fa-exclamation-triangle\"],[\"tagName\",\"i\"],[\"color\",\"white\"]]}]]},{\"type\":\"map\",\"entries\":[[\"type\",\"info\"],[\"background\",\"#007bff\"],[\"icon\",{\"type\":\"map\",\"entries\":[[\"className\",\"fas fa-info-circle\"],[\"tagName\",\"i\"],[\"color\",\"white\"]]}]]}]}]},{\"type\":\"model\",\"name\":\"Notification\",\"properties\":[{\"name\":\"background\",\"kind\":\"Any\",\"default\":null},{\"name\":\"duration\",\"kind\":\"Any\",\"default\":3000},{\"name\":\"icon\",\"kind\":\"Any\",\"default\":null},{\"name\":\"message\",\"kind\":\"Any\",\"default\":\"\"},{\"name\":\"notification_type\",\"kind\":\"Any\",\"default\":null},{\"name\":\"_destroyed\",\"kind\":\"Any\",\"default\":false}]},{\"type\":\"model\",\"name\":\"TemplateActions1\",\"properties\":[{\"name\":\"open_modal\",\"kind\":\"Any\",\"default\":0},{\"name\":\"close_modal\",\"kind\":\"Any\",\"default\":0}]},{\"type\":\"model\",\"name\":\"BootstrapTemplateActions1\",\"properties\":[{\"name\":\"open_modal\",\"kind\":\"Any\",\"default\":0},{\"name\":\"close_modal\",\"kind\":\"Any\",\"default\":0}]},{\"type\":\"model\",\"name\":\"TemplateEditor1\",\"properties\":[{\"name\":\"layout\",\"kind\":\"Any\",\"default\":[]}]},{\"type\":\"model\",\"name\":\"MaterialTemplateActions1\",\"properties\":[{\"name\":\"open_modal\",\"kind\":\"Any\",\"default\":0},{\"name\":\"close_modal\",\"kind\":\"Any\",\"default\":0}]},{\"type\":\"model\",\"name\":\"ReactiveESM1\"},{\"type\":\"model\",\"name\":\"JSComponent1\"},{\"type\":\"model\",\"name\":\"ReactComponent1\"},{\"type\":\"model\",\"name\":\"AnyWidgetComponent1\"},{\"type\":\"model\",\"name\":\"request_value1\",\"properties\":[{\"name\":\"fill\",\"kind\":\"Any\",\"default\":\"none\"},{\"name\":\"_synced\",\"kind\":\"Any\",\"default\":null},{\"name\":\"_request_sync\",\"kind\":\"Any\",\"default\":0}]}]}};\n",
       "  var render_items = [{\"docid\":\"83d3ca29-a85e-4c97-93f6-3ff93ba947a6\",\"roots\":{\"p1002\":\"ab8e7702-cf15-4016-8220-9872d540fbd8\"},\"root_ids\":[\"p1002\"]}];\n",
       "  var docs = Object.values(docs_json)\n",
       "  if (!docs) {\n",
       "    return\n",
       "  }\n",
       "  const py_version = docs[0].version.replace('rc', '-rc.').replace('.dev', '-dev.')\n",
       "  async function embed_document(root) {\n",
       "    var Bokeh = get_bokeh(root)\n",
       "    await Bokeh.embed.embed_items_notebook(docs_json, render_items);\n",
       "    for (const render_item of render_items) {\n",
       "      for (const root_id of render_item.root_ids) {\n",
       "\tconst id_el = document.getElementById(root_id)\n",
       "\tif (id_el.children.length && id_el.children[0].hasAttribute('data-root-id')) {\n",
       "\t  const root_el = id_el.children[0]\n",
       "\t  root_el.id = root_el.id + '-rendered'\n",
       "\t  for (const child of root_el.children) {\n",
       "            // Ensure JupyterLab does not capture keyboard shortcuts\n",
       "            // see: https://jupyterlab.readthedocs.io/en/4.1.x/extension/notebook.html#keyboard-interaction-model\n",
       "\t    child.setAttribute('data-lm-suppress-shortcuts', 'true')\n",
       "\t  }\n",
       "\t}\n",
       "      }\n",
       "    }\n",
       "  }\n",
       "  function get_bokeh(root) {\n",
       "    if (root.Bokeh === undefined) {\n",
       "      return null\n",
       "    } else if (root.Bokeh.version !== py_version) {\n",
       "      if (root.Bokeh.versions === undefined || !root.Bokeh.versions.has(py_version)) {\n",
       "\treturn null\n",
       "      }\n",
       "      return root.Bokeh.versions.get(py_version);\n",
       "    } else if (root.Bokeh.version === py_version) {\n",
       "      return root.Bokeh\n",
       "    }\n",
       "    return null\n",
       "  }\n",
       "  function is_loaded(root) {\n",
       "    var Bokeh = get_bokeh(root)\n",
       "    return (Bokeh != null && Bokeh.Panel !== undefined)\n",
       "  }\n",
       "  if (is_loaded(root)) {\n",
       "    embed_document(root);\n",
       "  } else {\n",
       "    var attempts = 0;\n",
       "    var timer = setInterval(function(root) {\n",
       "      if (is_loaded(root)) {\n",
       "        clearInterval(timer);\n",
       "        embed_document(root);\n",
       "      } else if (document.readyState == \"complete\") {\n",
       "        attempts++;\n",
       "        if (attempts > 200) {\n",
       "          clearInterval(timer);\n",
       "\t  var Bokeh = get_bokeh(root)\n",
       "\t  if (Bokeh == null || Bokeh.Panel == null) {\n",
       "            console.warn(\"Panel: ERROR: Unable to run Panel code because Bokeh or Panel library is missing\");\n",
       "\t  } else {\n",
       "\t    console.warn(\"Panel: WARNING: Attempting to render but not all required libraries could be resolved.\")\n",
       "\t    embed_document(root)\n",
       "\t  }\n",
       "        }\n",
       "      }\n",
       "    }, 25, root)\n",
       "  }\n",
       "})(window);</script>"
      ]
     },
     "metadata": {
      "application/vnd.holoviews_exec.v0+json": {
       "id": "p1002"
      }
     },
     "output_type": "display_data"
    },
    {
     "data": {
      "text/html": [
       "\n",
       "<div class=\"logo-block\">\n",
       "<img src='data:image/png;base64,iVBORw0KGgoAAAANSUhEUgAAAEAAAABACAYAAACqaXHeAAAABHNCSVQICAgIfAhkiAAAAAlwSFlz\n",
       "AAAB+wAAAfsBxc2miwAAABl0RVh0U29mdHdhcmUAd3d3Lmlua3NjYXBlLm9yZ5vuPBoAAA6zSURB\n",
       "VHic7ZtpeFRVmsf/5966taWqUlUJ2UioBBJiIBAwCZtog9IOgjqACsogKtqirT2ttt069nQ/zDzt\n",
       "tI4+CrJIREFaFgWhBXpUNhHZQoKBkIUASchWla1S+3ar7r1nPkDaCAnZKoQP/D7mnPOe9/xy76n3\n",
       "nFSAW9ziFoPFNED2LLK5wcyBDObkb8ZkxuaoSYlI6ZcOKq1eWFdedqNzGHQBk9RMEwFAASkk0Xw3\n",
       "ETacDNi2vtvc7L0ROdw0AjoSotQVkKSvHQz/wRO1lScGModBFbDMaNRN1A4tUBCS3lk7BWhQkgpD\n",
       "lG4852/+7DWr1R3uHAZVQDsbh6ZPN7CyxUrCzJMRouusj0ipRwD2uKm0Zn5d2dFwzX1TCGhnmdGo\n",
       "G62Nna+isiUqhkzuKrkQaJlPEv5mFl2fvGg2t/VnzkEV8F5ioioOEWkLG86fvbpthynjdhXYZziQ\n",
       "x1hC9J2NFyi8vCTt91Fh04KGip0AaG9zuCk2wQCVyoNU3Hjezee9bq92duzzTmxsRJoy+jEZZZYo\n",
       "GTKJ6SJngdJqAfRzpze0+jHreUtPc7gpBLQnIYK6BYp/uGhw9YK688eu7v95ysgshcg9qSLMo3JC\n",
       "4jqLKQFBgdKDPoQ+Pltb8dUyQLpeDjeVgI6EgLIQFT5tEl3rn2losHVsexbZ3EyT9wE1uGdkIPcy\n",
       "BGxn8QUq1QrA5nqW5i2tLqvrrM9NK6AdkVIvL9E9bZL/oyfMVd/jqvc8LylzRBKDJSzIExwhQzuL\n",
       "QYGQj4rHfFTc8mUdu3E7yoLtbTe9gI4EqVgVkug2i5+uXGo919ixbRog+3fTbQ8qJe4ZOYNfMoTI\n",
       "OoshUNosgO60AisX15aeI2PSIp5KiFLI9ubb1vV3Qb2ltwLakUCDAkWX7/nHKRmmGIl9VgYsUhJm\n",
       "2NXjKYADtM1ygne9QQDIXlk49FBstMKx66D1v4+XuQr7vqTe0VcBHQlRWiOCbmmSYe2SqtL6q5rJ\n",
       "zsTb7lKx3FKOYC4DoqyS/B5bvLPxvD9Qtf6saxYLQGJErmDOdOMr/zo96km1nElr8bmPOBwI9COv\n",
       "HnFPRIwmkSOv9kcAS4heRsidOkpeWBgZM+UBrTFAXNYL5Vf2ii9c1trNzpYdaoVil3WIc+wdk+gQ\n",
       "noie3ecCcxt9ITcLAPWt/laGEO/9U6PmzZkenTtsSMQ8uYywJVW+grCstAvCIaAdArAsIWkRDDs/\n",
       "KzLm2YcjY1Lv0UdW73HabE9n6V66cxSzfEmuJssTpKGVp+0vHq73FwL46eOjpMpbRAnNmJFrGJNu\n",
       "Ukf9Yrz+3rghiumCKNXXWPhLYcjxGsIpoCMsIRoFITkW8AuyM8jC1+/QLx4bozCEJIq38+1rtpR6\n",
       "V/yzb8eBlRb3fo5l783N0CWolAzJHaVNzkrTzlEp2bQ2q3TC5gn6wpnoQAmwSiGh2GitnTmVMc5O\n",
       "UyfKWUKCIsU7+fZDKwqdT6DDpvkzAX4/+AMFjk0tDp5GRXLpQ2MUmhgDp5gxQT8+Y7hyPsMi8uxF\n",
       "71H0oebujHALECjFKaW9Lm68n18wXp2kVzIcABytD5iXFzg+WVXkegpAsOOYziqo0OkK76GyquC3\n",
       "ltZAzMhhqlSNmmWTE5T6e3IN05ITFLM4GdN0vtZ3ob8Jh1NAKXFbm5PtLU/eqTSlGjkNAJjdgn/N\n",
       "aedXa0tdi7+t9G0FIF49rtMSEgAs1kDLkTPO7ebm4IUWeyh1bKomXqlgMG6kJmHcSM0clYLJ8XtR\n",
       "1GTnbV3F6I5wCGikAb402npp1h1s7LQUZZSMIfALFOuL3UUrfnS8+rez7v9qcold5tilgHbO1fjK\n",
       "9ubb17u9oshxzMiUBKXWqJNxd+fqb0tLVs4lILFnK71H0Ind7uiPgACVcFJlrb0tV6DzxqqTIhUM\n",
       "CwDf1/rrVhTa33/3pGPxJYdQ2l2cbgVcQSosdx8uqnDtbGjh9SlDVSMNWhlnilfqZk42Th2ZpLpf\n",
       "xrHec5e815zrr0dfBZSwzkZfqsv+1FS1KUknUwPARVvItfKUY+cn57yP7qv07UE3p8B2uhUwLk09\n",
       "e0SCOrK+hbdYHYLjRIl71wWzv9jpEoeOHhGRrJAzyEyNiJuUqX0g2sBN5kGK6y2Blp5M3lsB9Qh4\n",
       "y2Ja6x6+i0ucmKgwMATwhSjdUu49tKrQ/pvN5d53ml2CGwCmJipmKjgmyuaXzNeL2a0AkQ01Th5j\n",
       "2DktO3Jyk8f9vcOBQHV94OK+fPumJmvQHxJoWkaKWq9Vs+yUsbq0zGT1I4RgeH2b5wef7+c7bl8F\n",
       "eKgoHVVZa8ZPEORzR6sT1BzDUAD/d9F78e2Tzv99v8D+fLVTqAKAsbGamKey1Mt9Ann4eH3gTXTz\n",
       "idWtAJ8PQWOk7NzSeQn/OTHDuEikVF1R4z8BQCy+6D1aWRfY0tTGG2OM8rRoPaeIj5ZHzJxszElN\n",
       "VM8K8JS5WOfv8mzRnQAKoEhmt8gyPM4lU9SmBK1MCQBnW4KONT86v1hZ1PbwSXPw4JWussVjtH9Y\n",
       "NCoiL9UoH/6PSu8jFrfY2t36erQHXLIEakMi1SydmzB31h3GGXFDFNPaK8Rme9B79Ixrd0WN+1ij\n",
       "NRQ/doRmuFLBkHSTOm5GruG+pFjFdAmorG4IXH1Qua6ASniclfFtDYt+oUjKipPrCQB7QBQ2lrgP\n",
       "fFzm+9XWUtcqJ3/5vDLDpJ79XHZk3u8nGZ42qlj1+ydtbxysCezrydp6ugmipNJ7WBPB5tydY0jP\n",
       "HaVNzs3QzeE4ZpTbI+ZbnSFPbVOw9vsfnVvqWnirPyCNGD08IlqtYkh2hjZ5dErEQzoNm+6ykyOt\n",
       "Lt5/PQEuSRRKo22VkydK+vvS1XEKlhCJAnsqvcVvH7f/ZU2R67eXbMEGAMiIV5oWZWiWvz5Fv2xG\n",
       "sjqNJQRvn3Rs2lji/lNP19VjAQDgD7FHhujZB9OGqYxRkZxixgRDVlqS6uEOFaJUVu0rPFzctrnF\n",
       "JqijImVp8dEKVWyUXDk92zAuMZ6bFwpBU1HrOw6AdhQgUooChb0+ItMbWJitSo5Ws3IAOGEOtL53\n",
       "0vHZih9sC4vtofZ7Qu6523V/fmGcds1TY3V36pUsBwAbSlxnVh2xLfAD/IAIMDf7XYIkNmXfpp2l\n",
       "18rkAJAy9HKFaIr/qULkeQQKy9zf1JgDB2uaeFNGijo5QsUyacNUUTOnGO42xSnv4oOwpDi1zYkc\n",
       "efUc3I5Gk6PhyTuVKaOGyLUAYPGIoY9Pu/atL/L92+4q9wbflRJ2Trpm/jPjdBtfnqB/dIThcl8A\n",
       "KG7hbRuKnb8qsQsVvVlTrwQAQMUlf3kwJI24Z4JhPMtcfng5GcH49GsrxJpGvvHIaeem2ma+KSjQ\n",
       "lIwUdYyCY8j4dE1KzijNnIP2llF2wcXNnsoapw9XxsgYAl6k+KzUXbi2yP3KR2ecf6z3BFsBICdW\n",
       "nvnIaG3eHybqX7vbpEqUMT+9OL4Qpe8VON7dXuFd39v19FoAABRVePbGGuXTszO0P7tu6lghUonE\n",
       "llRdrhArLvmKdh9u29jcFiRRkfLUxBiFNiqSU9icoZQHo5mYBI1MBgBH6wMNb+U7Pnw337H4gi1Y\n",
       "ciWs+uks3Z9fztUvfzxTm9Ne8XXkvQLHNytOOZeiD4e0PgkAIAYCYknKUNUDSXEKzdWNpnil7r4p\n",
       "xqkjTarZMtk/K8TQ6Qve78qqvXurGwIJqcOUKfUWHsm8KGvxSP68YudXq4pcj39X49uOK2X142O0\n",
       "Tz5/u/7TVybqH0rSya6ZBwD21/gubbrgWdDgEOx9WUhfBaC2ibcEBYm7a7x+ukrBMNcEZggyR0TE\n",
       "T8zUPjikQ4VosQZbTpS4vqizBKvqmvjsqnpfzaZyx9JPiz1/bfGKdgD45XB1zoIMzYbfTdS/NClB\n",
       "Gct0USiY3YL/g0LHy/uq/Ef6uo5+n0R/vyhp17Klpge763f8rMu6YU/zrn2nml+2WtH+Z+5IAAFc\n",
       "2bUTdTDOSNa9+cQY7YLsOIXhevEkCvzph7a8laecz/Un/z4/Ae04XeL3UQb57IwU9ZDr9UuKVajv\n",
       "nxp1+1UVIo/LjztZkKH59fO3G/JemqCfmaCRqbqbd90ZZ8FfjtkfAyD0J/9+C2h1hDwsSxvGjNDc\n",
       "b4zk5NfrSwiQblLHzZhg+Jf4aPlUwpDqkQqa9nimbt1/TDH8OitGMaQnj+RJS6B1fbF7SY1TqO5v\n",
       "/v0WAADl1f7zokgS7s7VT2DZ7pegUjBM7mjtiDZbcN4j0YrHH0rXpCtY0qPX0cVL0rv5jv/ZXend\n",
       "0u/EESYBAFBU4T4Qa5TflZOhTe7pmKpaP8kCVUVw1+yhXfJWvn1P3hnXi33JsTN6PnP3hHZ8Z3/h\n",
       "aLHzmkNPuPj7Bc/F/Q38CwjTpSwQXgE4Vmwry9tpfq/ZFgqFMy4AVDtCvi8rvMvOmv0N4YwbVgEA\n",
       "sPM72/KVnzfspmH7HQGCRLG2yL1+z8XwvPcdCbsAANh+xPzstgMtxeGKt+6MK3/tacfvwhWvIwMi\n",
       "oKEBtm0H7W+UVfkc/Y1V0BhoPlDr/w1w/eu1vjIgAgDg22OtX6/eYfnEz/focrZTHAFR+PSs56/7\n",
       "q32nwpjazxgwAQCwcU/T62t3WL7r6/jVRa6/byp1rei+Z98ZUAEAhEPHPc8fKnTU9nbgtnOe8h0l\n",
       "9hcGIqmODLQAHCy2Xti6v/XNRivf43f4fFvIteu854+VHnR7q9tfBlwAAGz+pnndB9vM26UebAe8\n",
       "SLHujPOTPVW+rwY+sxskAAC2HrA8t2Vvc7ffP1r9o+vwR2dcr92InIAbKKC1FZ5tB1tf+/G8p8sv\n",
       "N/9Q5zd/XR34LYCwV5JdccMEAMDBk45DH243r/X4xGvqxFa/GNpS7n6rwOwNWwHVE26oAADYurf1\n",
       "zx/utOzt+DMKYM0p17YtZZ5VNzqfsB2HewG1WXE8PoZ7gOclbTIvynZf9JV+fqZtfgs/8F/Nu5rB\n",
       "EIBmJ+8QRMmpU7EzGRsf2FzuePqYRbzh/zE26EwdrT10f6r6o8HOYzCJB9Dpff8tbnGLG8L/A/WE\n",
       "roTBs2RqAAAAAElFTkSuQmCC'\n",
       "     style='height:25px; border-radius:12px; display: inline-block; float: left; vertical-align: middle'></img>\n",
       "\n",
       "\n",
       "  <img src='data:image/png;base64,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'\n",
       "       style='height:15px; border-radius:12px; display: inline-block; float: left'></img>\n",
       "  \n",
       "\n",
       "\n",
       "\n",
       "\n",
       "</div>\n"
      ]
     },
     "metadata": {},
     "output_type": "display_data"
    }
   ],
   "source": [
    "from typing import Callable\n",
    "\n",
    "import numpy as np\n",
    "from scipy.fft import fft\n",
    "import holoviews as hv\n",
    "from holoviews import opts\n",
    "\n",
    "from LUT import LUT\n",
    "\n",
    "hv.extension('bokeh')\n",
    "opts.defaults(\n",
    "    opts.Curve(height=400, responsive=True, tools=['hover'], show_grid=True),\n",
    "    opts.Bars(height=400, responsive=True, tools=['hover'], show_grid=True),\n",
    ")"
   ]
  },
  {
   "cell_type": "markdown",
   "metadata": {},
   "source": [
    "## Registers"
   ]
  },
  {
   "cell_type": "code",
   "execution_count": 35,
   "metadata": {},
   "outputs": [],
   "source": [
    "# Regular sine wave\n",
    "modulation_amplitude = 0\n",
    "microstep_amplitude = 248\n",
    "microstep_sine_offset = 0\n",
    "\n",
    "MSLUT = [\n",
    "    0xAAAAB554,\n",
    "    0x4A9554AA,\n",
    "    0x24492929,\n",
    "    0x10104222,\n",
    "    0xF8000000,\n",
    "    0xB5BB777D,\n",
    "    0x49295556,\n",
    "    0x00404222,\n",
    "]\n",
    "\n",
    "MSLUTSEL = 0xFFFF9A56\n",
    "MSLUTSTART = microstep_sine_offset | (248 << 16)"
   ]
  },
  {
   "cell_type": "code",
   "execution_count": 36,
   "metadata": {},
   "outputs": [],
   "source": [
    "# Negative modulation TMCL-IDE\n",
    "modulation_amplitude = -20\n",
    "microstep_amplitude = 248\n",
    "microstep_sine_offset = 0\n",
    "\n",
    "MSLUT = [\n",
    "    0xFF7EF7BA,\n",
    "    0x29220FFF,\n",
    "    0xBBBB6B55,\n",
    "    0x6DBBDEF7,\n",
    "    0x08224AAD,\n",
    "    0xA5ADB7E0,\n",
    "    0x01084492,\n",
    "    0x00001001,\n",
    "]\n",
    "\n",
    "MSLUTSEL = 0xFFA42B59\n",
    "MSLUTSTART = microstep_sine_offset | (248 << 16)"
   ]
  },
  {
   "cell_type": "code",
   "execution_count": 37,
   "metadata": {},
   "outputs": [],
   "source": [
    "# Positive modulation TMCL-IDE\n",
    "modulation_amplitude = 20\n",
    "microstep_amplitude = 248\n",
    "microstep_sine_offset = 0\n",
    "\n",
    "MSLUT = [\n",
    "    0x00410888,\n",
    "    0xA55B6F80,\n",
    "    0xDFF08084,\n",
    "    0x56ADADDD,\n",
    "    0x5AD56AAD,\n",
    "    0x76EDDB6B,\n",
    "    0xB6DB7777,\n",
    "    0x02114AAA,\n",
    "]\n",
    "\n",
    "MSLUTSEL = 0xFF53265B\n",
    "MSLUTSTART = microstep_sine_offset | (248 << 16)"
   ]
  },
  {
   "cell_type": "code",
   "execution_count": 45,
   "metadata": {},
   "outputs": [],
   "source": [
    "# Max modulation TMCL-IDE\n",
    "modulation_amplitude = 39\n",
    "microstep_amplitude = 248\n",
    "microstep_sine_offset = 0\n",
    "\n",
    "MSLUT = [\n",
    "    0x56ddfefe,\n",
    "    0x4ab80012,\n",
    "    0x95ade004,\n",
    "    0x02008224,\n",
    "    0x22100800,\n",
    "    0xfbb6d549,\n",
    "    0xfffffffd,\n",
    "    0x08956def,\n",
    "]\n",
    "\n",
    "MSLUTSEL = 0xdd4c325b\n",
    "MSLUTSTART = microstep_sine_offset | (248 << 16)"
   ]
  },
  {
   "cell_type": "code",
   "execution_count": 48,
   "metadata": {},
   "outputs": [],
   "source": [
    "# Min modulation TMCL-IDE\n",
    "modulation_amplitude = -27\n",
    "microstep_amplitude = 248\n",
    "microstep_sine_offset = 0\n",
    "\n",
    "MSLUT = [\n",
    "    0xeed6ad54,\n",
    "    0x52207f7e,\n",
    "    0xdff7bb55,\n",
    "    0xdfffffff,\n",
    "    0x022555bb,\n",
    "    0x255adc00,\n",
    "    0x00810449,\n",
    "    0x20,\n",
    "]\n",
    "\n",
    "MSLUTSEL = 0xffa92e59\n",
    "MSLUTSTART = microstep_sine_offset | (248 << 16)"
   ]
  },
  {
   "cell_type": "code",
   "execution_count": 38,
   "metadata": {},
   "outputs": [],
   "source": [
    "# Sine Offset\n",
    "modulation_amplitude = 0\n",
    "microstep_amplitude = 124\n",
    "microstep_sine_offset = 124\n",
    "\n",
    "MSLUT = [\n",
    "    0xDDDDDEEE,\n",
    "    0xB76EEEDD,\n",
    "    0xDB6DB6DB,\n",
    "    0x55AB5ADA,\n",
    "    0x954AAAAD,\n",
    "    0x1249494A,\n",
    "    0x82108889,\n",
    "    0x00020080,\n",
    "]\n",
    "\n",
    "MSLUTSEL = 0xFFFFFF55\n",
    "MSLUTSTART = microstep_sine_offset | (248 << 16)"
   ]
  },
  {
   "cell_type": "code",
   "execution_count": 39,
   "metadata": {},
   "outputs": [],
   "source": [
    "# Custom modulation\n",
    "modulation_amplitude = 15 # ?\n",
    "microstep_amplitude = 248\n",
    "microstep_sine_offset = 0\n",
    "\n",
    "MSLUT = [\n",
    "    0xC0410844,\n",
    "    0x2AAB77DF,\n",
    "    0xBE000211,\n",
    "    0xAB56B6DB,\n",
    "    0xB6D6AD56,\n",
    "    0xDDDDBB6D,\n",
    "    0x5AD76DDD,\n",
    "    0x01049255,\n",
    "]\n",
    "\n",
    "MSLUTSEL = (3) | (2 << 2) | (1 << 4) | (1 << 6) | (30 << 8) | (88 << 16) | (220 << 24)\n",
    "MSLUTSTART = microstep_sine_offset | (248 << 16)"
   ]
  },
  {
   "cell_type": "code",
   "execution_count": 41,
   "metadata": {},
   "outputs": [],
   "source": [
    "# Max custom modulation\n",
    "modulation_amplitude = 31 # ?\n",
    "microstep_amplitude = 248\n",
    "microstep_sine_offset = 0\n",
    "\n",
    "MSLUT = [\n",
    "    0x5BBDFFFF,\n",
    "    0x4ADE0849,\n",
    "    0x4955B808,\n",
    "    0x8,\n",
    "    0x4A220800,\n",
    "    0xFEFBB6D5,\n",
    "    0xEFDFFFF7,\n",
    "    0x224AB6D,\n",
    "]\n",
    "\n",
    "MSLUTSEL = (3) | (2 << 2) | (1 << 4) | (1 << 6) | (48 << 8) | (74 << 16) | (220 << 24)\n",
    "MSLUTSTART = microstep_sine_offset | (248 << 16)"
   ]
  },
  {
   "cell_type": "markdown",
   "metadata": {},
   "source": [
    "## Plot wave from registers"
   ]
  },
  {
   "cell_type": "code",
   "execution_count": 49,
   "metadata": {},
   "outputs": [
    {
     "data": {},
     "metadata": {},
     "output_type": "display_data"
    },
    {
     "data": {},
     "metadata": {},
     "output_type": "display_data"
    },
    {
     "data": {
      "application/vnd.holoviews_exec.v0+json": "",
      "text/html": [
       "<div id='p20177'>\n",
       "  <div id=\"ffe3afae-5137-4111-8bd8-c247d5df0f51\" data-root-id=\"p20177\" style=\"display: contents;\"></div>\n",
       "</div>\n",
       "<script type=\"application/javascript\">(function(root) {\n",
       "  var docs_json = {\"d0994dda-7df8-4d9b-998c-7371b898c1e7\":{\"version\":\"3.5.2\",\"title\":\"Bokeh Application\",\"roots\":[{\"type\":\"object\",\"name\":\"Row\",\"id\":\"p20177\",\"attributes\":{\"name\":\"Row291010\",\"tags\":[\"embedded\"],\"stylesheets\":[\"\\n:host(.pn-loading):before, .pn-loading:before {\\n  background-color: #c3c3c3;\\n  mask-size: auto calc(min(50%, 400px));\\n  -webkit-mask-size: auto calc(min(50%, 400px));\\n}\",{\"type\":\"object\",\"name\":\"ImportedStyleSheet\",\"id\":\"p20180\",\"attributes\":{\"url\":\"https://cdn.holoviz.org/panel/1.5.0/dist/css/loading.css\"}},{\"type\":\"object\",\"name\":\"ImportedStyleSheet\",\"id\":\"p20321\",\"attributes\":{\"url\":\"https://cdn.holoviz.org/panel/1.5.0/dist/css/listpanel.css\"}},{\"type\":\"object\",\"name\":\"ImportedStyleSheet\",\"id\":\"p20178\",\"attributes\":{\"url\":\"https://cdn.holoviz.org/panel/1.5.0/dist/bundled/theme/default.css\"}},{\"type\":\"object\",\"name\":\"ImportedStyleSheet\",\"id\":\"p20179\",\"attributes\":{\"url\":\"https://cdn.holoviz.org/panel/1.5.0/dist/bundled/theme/native.css\"}}],\"margin\":0,\"sizing_mode\":\"stretch_width\",\"align\":\"start\",\"children\":[{\"type\":\"object\",\"name\":\"GridPlot\",\"id\":\"p20309\",\"attributes\":{\"rows\":null,\"cols\":null,\"sizing_mode\":\"stretch_width\",\"toolbar\":{\"type\":\"object\",\"name\":\"Toolbar\",\"id\":\"p20317\",\"attributes\":{\"tools\":[{\"type\":\"object\",\"name\":\"ToolProxy\",\"id\":\"p20311\",\"attributes\":{\"tools\":[{\"type\":\"object\",\"name\":\"WheelZoomTool\",\"id\":\"p20187\",\"attributes\":{\"tags\":[\"hv_created\"],\"renderers\":\"auto\",\"zoom_together\":\"none\"}},{\"type\":\"object\",\"name\":\"WheelZoomTool\",\"id\":\"p20240\",\"attributes\":{\"tags\":[\"hv_created\"],\"renderers\":\"auto\",\"zoom_together\":\"none\"}}]}},{\"type\":\"object\",\"name\":\"ToolProxy\",\"id\":\"p20312\",\"attributes\":{\"tools\":[{\"type\":\"object\",\"name\":\"HoverTool\",\"id\":\"p20188\",\"attributes\":{\"tags\":[\"hv_created\"],\"renderers\":[{\"type\":\"object\",\"name\":\"GlyphRenderer\",\"id\":\"p20231\",\"attributes\":{\"data_source\":{\"type\":\"object\",\"name\":\"ColumnDataSource\",\"id\":\"p20222\",\"attributes\":{\"selected\":{\"type\":\"object\",\"name\":\"Selection\",\"id\":\"p20223\",\"attributes\":{\"indices\":[],\"line_indices\":[]}},\"selection_policy\":{\"type\":\"object\",\"name\":\"UnionRenderers\",\"id\":\"p20224\"},\"data\":{\"type\":\"map\",\"entries\":[[\"microsteps\",{\"type\":\"ndarray\",\"array\":{\"type\":\"bytes\",\"data\":\"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\"},\"shape\":[1024],\"dtype\":\"int32\",\"order\":\"little\"}],[\"amplitude\",{\"type\":\"ndarray\",\"array\":{\"type\":\"bytes\",\"data\":\"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\"},\"shape\":[1024],\"dtype\":\"int32\",\"order\":\"little\"}]]}}},\"view\":{\"type\":\"object\",\"name\":\"CDSView\",\"id\":\"p20232\",\"attributes\":{\"filter\":{\"type\":\"object\",\"name\":\"AllIndices\",\"id\":\"p20233\"}}},\"glyph\":{\"type\":\"object\",\"name\":\"Line\",\"id\":\"p20228\",\"attributes\":{\"tags\":[\"apply_ranges\"],\"x\":{\"type\":\"field\",\"field\":\"microsteps\"},\"y\":{\"type\":\"field\",\"field\":\"amplitude\"},\"line_color\":\"#30a2da\",\"line_width\":2}},\"selection_glyph\":{\"type\":\"object\",\"name\":\"Line\",\"id\":\"p20234\",\"attributes\":{\"tags\":[\"apply_ranges\"],\"x\":{\"type\":\"field\",\"field\":\"microsteps\"},\"y\":{\"type\":\"field\",\"field\":\"amplitude\"},\"line_color\":\"#30a2da\",\"line_width\":2}},\"nonselection_glyph\":{\"type\":\"object\",\"name\":\"Line\",\"id\":\"p20229\",\"attributes\":{\"tags\":[\"apply_ranges\"],\"x\":{\"type\":\"field\",\"field\":\"microsteps\"},\"y\":{\"type\":\"field\",\"field\":\"amplitude\"},\"line_color\":\"#30a2da\",\"line_alpha\":0.1,\"line_width\":2}},\"muted_glyph\":{\"type\":\"object\",\"name\":\"Line\",\"id\":\"p20230\",\"attributes\":{\"tags\":[\"apply_ranges\"],\"x\":{\"type\":\"field\",\"field\":\"microsteps\"},\"y\":{\"type\":\"field\",\"field\":\"amplitude\"},\"line_color\":\"#30a2da\",\"line_alpha\":0.2,\"line_width\":2}}}}],\"tooltips\":[[\"microsteps\",\"@{microsteps}\"],[\"amplitude\",\"@{amplitude}\"]]}},{\"type\":\"object\",\"name\":\"HoverTool\",\"id\":\"p20241\",\"attributes\":{\"tags\":[\"hv_created\"],\"renderers\":[{\"type\":\"object\",\"name\":\"GlyphRenderer\",\"id\":\"p20284\",\"attributes\":{\"data_source\":{\"type\":\"object\",\"name\":\"ColumnDataSource\",\"id\":\"p20275\",\"attributes\":{\"selected\":{\"type\":\"object\",\"name\":\"Selection\",\"id\":\"p20276\",\"attributes\":{\"indices\":[],\"line_indices\":[]}},\"selection_policy\":{\"type\":\"object\",\"name\":\"UnionRenderers\",\"id\":\"p20277\"},\"data\":{\"type\":\"map\",\"entries\":[[\"frequency\",{\"type\":\"ndarray\",\"array\":{\"type\":\"bytes\",\"data\":\"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\"},\"shape\":[1024],\"dtype\":\"float64\",\"order\":\"little\"}],[\"y\",{\"type\":\"ndarray\",\"array\":{\"type\":\"bytes\",\"data\":\"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\"},\"shape\":[1024],\"dtype\":\"float64\",\"order\":\"little\"}]]}}},\"view\":{\"type\":\"object\",\"name\":\"CDSView\",\"id\":\"p20285\",\"attributes\":{\"filter\":{\"type\":\"object\",\"name\":\"AllIndices\",\"id\":\"p20286\"}}},\"glyph\":{\"type\":\"object\",\"name\":\"VBar\",\"id\":\"p20281\",\"attributes\":{\"tags\":[\"apply_ranges\"],\"x\":{\"type\":\"field\",\"field\":\"frequency\"},\"width\":{\"type\":\"value\",\"value\":0.8},\"top\":{\"type\":\"field\",\"field\":\"y\"},\"fill_color\":{\"type\":\"value\",\"value\":\"#30a2da\"},\"hatch_color\":{\"type\":\"value\",\"value\":\"#30a2da\"}}},\"selection_glyph\":{\"type\":\"object\",\"name\":\"VBar\",\"id\":\"p20287\",\"attributes\":{\"tags\":[\"apply_ranges\"],\"x\":{\"type\":\"field\",\"field\":\"frequency\"},\"width\":{\"type\":\"value\",\"value\":0.8},\"bottom\":{\"type\":\"value\",\"value\":0},\"top\":{\"type\":\"field\",\"field\":\"y\"},\"line_color\":{\"type\":\"value\",\"value\":\"black\"},\"line_alpha\":{\"type\":\"value\",\"value\":1.0},\"line_width\":{\"type\":\"value\",\"value\":1},\"line_join\":{\"type\":\"value\",\"value\":\"bevel\"},\"line_cap\":{\"type\":\"value\",\"value\":\"butt\"},\"line_dash\":{\"type\":\"value\",\"value\":[]},\"line_dash_offset\":{\"type\":\"value\",\"value\":0},\"fill_color\":{\"type\":\"value\",\"value\":\"#30a2da\"},\"fill_alpha\":{\"type\":\"value\",\"value\":1.0},\"hatch_color\":{\"type\":\"value\",\"value\":\"#30a2da\"},\"hatch_alpha\":{\"type\":\"value\",\"value\":1.0},\"hatch_scale\":{\"type\":\"value\",\"value\":12.0},\"hatch_pattern\":{\"type\":\"value\",\"value\":null},\"hatch_weight\":{\"type\":\"value\",\"value\":1.0}}},\"nonselection_glyph\":{\"type\":\"object\",\"name\":\"VBar\",\"id\":\"p20282\",\"attributes\":{\"tags\":[\"apply_ranges\"],\"x\":{\"type\":\"field\",\"field\":\"frequency\"},\"width\":{\"type\":\"value\",\"value\":0.8},\"top\":{\"type\":\"field\",\"field\":\"y\"},\"line_alpha\":{\"type\":\"value\",\"value\":0.1},\"fill_color\":{\"type\":\"value\",\"value\":\"#30a2da\"},\"fill_alpha\":{\"type\":\"value\",\"value\":0.1},\"hatch_color\":{\"type\":\"value\",\"value\":\"#30a2da\"},\"hatch_alpha\":{\"type\":\"value\",\"value\":0.1}}},\"muted_glyph\":{\"type\":\"object\",\"name\":\"VBar\",\"id\":\"p20283\",\"attributes\":{\"tags\":[\"apply_ranges\"],\"x\":{\"type\":\"field\",\"field\":\"frequency\"},\"width\":{\"type\":\"value\",\"value\":0.8},\"top\":{\"type\":\"field\",\"field\":\"y\"},\"line_alpha\":{\"type\":\"value\",\"value\":0.2},\"fill_color\":{\"type\":\"value\",\"value\":\"#30a2da\"},\"fill_alpha\":{\"type\":\"value\",\"value\":0.2},\"hatch_color\":{\"type\":\"value\",\"value\":\"#30a2da\"},\"hatch_alpha\":{\"type\":\"value\",\"value\":0.2}}}}}],\"tooltips\":[[\"frequency\",\"@{frequency}\"],[\"y\",\"@{y}\"]]}}]}},{\"type\":\"object\",\"name\":\"SaveTool\",\"id\":\"p20313\"},{\"type\":\"object\",\"name\":\"ToolProxy\",\"id\":\"p20314\",\"attributes\":{\"tools\":[{\"type\":\"object\",\"name\":\"PanTool\",\"id\":\"p20212\"},{\"type\":\"object\",\"name\":\"PanTool\",\"id\":\"p20265\"}]}},{\"type\":\"object\",\"name\":\"ToolProxy\",\"id\":\"p20315\",\"attributes\":{\"tools\":[{\"type\":\"object\",\"name\":\"BoxZoomTool\",\"id\":\"p20213\",\"attributes\":{\"overlay\":{\"type\":\"object\",\"name\":\"BoxAnnotation\",\"id\":\"p20214\",\"attributes\":{\"syncable\":false,\"line_color\":\"black\",\"line_alpha\":1.0,\"line_width\":2,\"line_dash\":[4,4],\"fill_color\":\"lightgrey\",\"fill_alpha\":0.5,\"level\":\"overlay\",\"visible\":false,\"left\":{\"type\":\"number\",\"value\":\"nan\"},\"right\":{\"type\":\"number\",\"value\":\"nan\"},\"top\":{\"type\":\"number\",\"value\":\"nan\"},\"bottom\":{\"type\":\"number\",\"value\":\"nan\"},\"left_units\":\"canvas\",\"right_units\":\"canvas\",\"top_units\":\"canvas\",\"bottom_units\":\"canvas\",\"handles\":{\"type\":\"object\",\"name\":\"BoxInteractionHandles\",\"id\":\"p20220\",\"attributes\":{\"all\":{\"type\":\"object\",\"name\":\"AreaVisuals\",\"id\":\"p20219\",\"attributes\":{\"fill_color\":\"white\",\"hover_fill_color\":\"lightgray\"}}}}}}}},{\"type\":\"object\",\"name\":\"BoxZoomTool\",\"id\":\"p20266\",\"attributes\":{\"overlay\":{\"type\":\"object\",\"name\":\"BoxAnnotation\",\"id\":\"p20267\",\"attributes\":{\"syncable\":false,\"line_color\":\"black\",\"line_alpha\":1.0,\"line_width\":2,\"line_dash\":[4,4],\"fill_color\":\"lightgrey\",\"fill_alpha\":0.5,\"level\":\"overlay\",\"visible\":false,\"left\":{\"type\":\"number\",\"value\":\"nan\"},\"right\":{\"type\":\"number\",\"value\":\"nan\"},\"top\":{\"type\":\"number\",\"value\":\"nan\"},\"bottom\":{\"type\":\"number\",\"value\":\"nan\"},\"left_units\":\"canvas\",\"right_units\":\"canvas\",\"top_units\":\"canvas\",\"bottom_units\":\"canvas\",\"handles\":{\"type\":\"object\",\"name\":\"BoxInteractionHandles\",\"id\":\"p20273\",\"attributes\":{\"all\":{\"type\":\"object\",\"name\":\"AreaVisuals\",\"id\":\"p20272\",\"attributes\":{\"fill_color\":\"white\",\"hover_fill_color\":\"lightgray\"}}}}}}}}]}},{\"type\":\"object\",\"name\":\"ToolProxy\",\"id\":\"p20316\",\"attributes\":{\"tools\":[{\"type\":\"object\",\"name\":\"ResetTool\",\"id\":\"p20221\"},{\"type\":\"object\",\"name\":\"ResetTool\",\"id\":\"p20274\"}]}}]}},\"children\":[[{\"type\":\"object\",\"name\":\"Figure\",\"id\":\"p20189\",\"attributes\":{\"width\":null,\"height\":400,\"sizing_mode\":\"stretch_width\",\"align\":\"start\",\"x_range\":{\"type\":\"object\",\"name\":\"Range1d\",\"id\":\"p20182\",\"attributes\":{\"tags\":[[[\"microsteps\",null]],[]],\"end\":1023.0,\"reset_start\":0.0,\"reset_end\":1023.0}},\"y_range\":{\"type\":\"object\",\"name\":\"Range1d\",\"id\":\"p20183\",\"attributes\":{\"tags\":[[[\"amplitude\",null]],{\"type\":\"map\",\"entries\":[[\"invert_yaxis\",false],[\"autorange\",false]]}],\"start\":-284.05,\"end\":284.05,\"reset_start\":-284.05,\"reset_end\":284.05}},\"x_scale\":{\"type\":\"object\",\"name\":\"LinearScale\",\"id\":\"p20199\"},\"y_scale\":{\"type\":\"object\",\"name\":\"LinearScale\",\"id\":\"p20200\"},\"title\":{\"type\":\"object\",\"name\":\"Title\",\"id\":\"p20192\",\"attributes\":{\"text\":\"Microstep full wave, modulation amplitude = -27\",\"text_color\":\"black\",\"text_font_size\":\"12pt\"}},\"renderers\":[{\"id\":\"p20231\"}],\"toolbar\":{\"type\":\"object\",\"name\":\"Toolbar\",\"id\":\"p20198\",\"attributes\":{\"tools\":[{\"id\":\"p20187\"},{\"id\":\"p20188\"},{\"type\":\"object\",\"name\":\"SaveTool\",\"id\":\"p20211\"},{\"id\":\"p20212\"},{\"id\":\"p20213\"},{\"id\":\"p20221\"}],\"active_drag\":{\"id\":\"p20212\"},\"active_scroll\":{\"id\":\"p20187\"}}},\"toolbar_location\":null,\"left\":[{\"type\":\"object\",\"name\":\"LinearAxis\",\"id\":\"p20206\",\"attributes\":{\"ticker\":{\"type\":\"object\",\"name\":\"BasicTicker\",\"id\":\"p20207\",\"attributes\":{\"mantissas\":[1,2,5]}},\"formatter\":{\"type\":\"object\",\"name\":\"BasicTickFormatter\",\"id\":\"p20208\"},\"axis_label\":\"Sin Wave\",\"major_label_policy\":{\"type\":\"object\",\"name\":\"AllLabels\",\"id\":\"p20209\"}}}],\"below\":[{\"type\":\"object\",\"name\":\"LinearAxis\",\"id\":\"p20201\",\"attributes\":{\"ticker\":{\"type\":\"object\",\"name\":\"BasicTicker\",\"id\":\"p20202\",\"attributes\":{\"mantissas\":[1,2,5]}},\"formatter\":{\"type\":\"object\",\"name\":\"BasicTickFormatter\",\"id\":\"p20203\"},\"axis_label\":\"Microstep\",\"major_label_policy\":{\"type\":\"object\",\"name\":\"AllLabels\",\"id\":\"p20204\"}}}],\"center\":[{\"type\":\"object\",\"name\":\"Grid\",\"id\":\"p20205\",\"attributes\":{\"axis\":{\"id\":\"p20201\"},\"ticker\":{\"id\":\"p20202\"}}},{\"type\":\"object\",\"name\":\"Grid\",\"id\":\"p20210\",\"attributes\":{\"dimension\":1,\"axis\":{\"id\":\"p20206\"},\"ticker\":{\"id\":\"p20207\"}}}],\"min_border_top\":10,\"min_border_bottom\":10,\"min_border_left\":10,\"min_border_right\":10,\"output_backend\":\"webgl\"}},0,0],[{\"type\":\"object\",\"name\":\"Figure\",\"id\":\"p20242\",\"attributes\":{\"width\":null,\"height\":400,\"sizing_mode\":\"stretch_width\",\"align\":\"start\",\"x_range\":{\"type\":\"object\",\"name\":\"Range1d\",\"id\":\"p20235\",\"attributes\":{\"tags\":[[[\"frequency\",null]],[]],\"end\":50,\"reset_start\":0,\"reset_end\":50}},\"y_range\":{\"type\":\"object\",\"name\":\"Range1d\",\"id\":\"p20236\",\"attributes\":{\"tags\":[[[\"y\",null]],{\"type\":\"map\",\"entries\":[[\"invert_yaxis\",false],[\"autorange\",false]]}],\"end\":268.1864151382942,\"reset_start\":0.0,\"reset_end\":268.1864151382942}},\"x_scale\":{\"type\":\"object\",\"name\":\"LinearScale\",\"id\":\"p20252\"},\"y_scale\":{\"type\":\"object\",\"name\":\"LinearScale\",\"id\":\"p20253\"},\"title\":{\"type\":\"object\",\"name\":\"Title\",\"id\":\"p20245\",\"attributes\":{\"text_color\":\"black\",\"text_font_size\":\"12pt\"}},\"renderers\":[{\"id\":\"p20284\"}],\"toolbar\":{\"type\":\"object\",\"name\":\"Toolbar\",\"id\":\"p20251\",\"attributes\":{\"tools\":[{\"id\":\"p20240\"},{\"id\":\"p20241\"},{\"type\":\"object\",\"name\":\"SaveTool\",\"id\":\"p20264\"},{\"id\":\"p20265\"},{\"id\":\"p20266\"},{\"id\":\"p20274\"}],\"active_drag\":{\"id\":\"p20265\"},\"active_scroll\":{\"id\":\"p20240\"}}},\"toolbar_location\":null,\"left\":[{\"type\":\"object\",\"name\":\"LinearAxis\",\"id\":\"p20259\",\"attributes\":{\"ticker\":{\"type\":\"object\",\"name\":\"BasicTicker\",\"id\":\"p20260\",\"attributes\":{\"mantissas\":[1,2,5]}},\"formatter\":{\"type\":\"object\",\"name\":\"BasicTickFormatter\",\"id\":\"p20261\"},\"axis_label\":\"Amplitude\",\"major_label_policy\":{\"type\":\"object\",\"name\":\"AllLabels\",\"id\":\"p20262\"}}}],\"below\":[{\"type\":\"object\",\"name\":\"LinearAxis\",\"id\":\"p20254\",\"attributes\":{\"ticker\":{\"type\":\"object\",\"name\":\"BasicTicker\",\"id\":\"p20255\",\"attributes\":{\"desired_num_ticks\":50,\"mantissas\":[1,2,5]}},\"formatter\":{\"type\":\"object\",\"name\":\"BasicTickFormatter\",\"id\":\"p20256\"},\"axis_label\":\"Frequency\",\"major_label_policy\":{\"type\":\"object\",\"name\":\"AllLabels\",\"id\":\"p20257\"}}}],\"center\":[{\"type\":\"object\",\"name\":\"Grid\",\"id\":\"p20258\",\"attributes\":{\"axis\":{\"id\":\"p20254\"},\"ticker\":{\"id\":\"p20255\"}}},{\"type\":\"object\",\"name\":\"Grid\",\"id\":\"p20263\",\"attributes\":{\"dimension\":1,\"axis\":{\"id\":\"p20259\"},\"ticker\":{\"id\":\"p20260\"}}}],\"min_border_top\":10,\"min_border_bottom\":10,\"min_border_left\":10,\"min_border_right\":10,\"output_backend\":\"webgl\"}},1,0],[{\"type\":\"object\",\"name\":\"DataTable\",\"id\":\"p20302\",\"attributes\":{\"width\":400,\"height\":300,\"sizing_mode\":\"stretch_width\",\"source\":{\"type\":\"object\",\"name\":\"ColumnDataSource\",\"id\":\"p20289\",\"attributes\":{\"selected\":{\"type\":\"object\",\"name\":\"Selection\",\"id\":\"p20290\",\"attributes\":{\"indices\":[],\"line_indices\":[]}},\"selection_policy\":{\"type\":\"object\",\"name\":\"UnionRenderers\",\"id\":\"p20291\"},\"data\":{\"type\":\"map\",\"entries\":[[\"Register\",{\"type\":\"ndarray\",\"array\":[\"MSLUT[0]\",\"MSLUT[1]\",\"MSLUT[2]\",\"MSLUT[3]\",\"MSLUT[4]\",\"MSLUT[5]\",\"MSLUT[6]\",\"MSLUT[7]\",\"MSLUTSEL\",\"MSLUTSTART\"],\"shape\":[10],\"dtype\":\"object\",\"order\":\"little\"}],[\"Value\",{\"type\":\"ndarray\",\"array\":[\"0xeed6ad54\",\"0x52207f7e\",\"0xdff7bb55\",\"0xdfffffff\",\"0x22555bb\",\"0x255adc00\",\"0x810449\",\"0x20\",\"4289277529\",\"16252928\"],\"shape\":[10],\"dtype\":\"object\",\"order\":\"little\"}]]}}},\"view\":{\"type\":\"object\",\"name\":\"CDSView\",\"id\":\"p20306\",\"attributes\":{\"filter\":{\"type\":\"object\",\"name\":\"AllIndices\",\"id\":\"p20307\"}}},\"columns\":[{\"type\":\"object\",\"name\":\"TableColumn\",\"id\":\"p20294\",\"attributes\":{\"field\":\"Register\",\"title\":\"Register\",\"formatter\":{\"type\":\"object\",\"name\":\"StringFormatter\",\"id\":\"p20292\"},\"editor\":{\"type\":\"object\",\"name\":\"StringEditor\",\"id\":\"p20293\"}}},{\"type\":\"object\",\"name\":\"TableColumn\",\"id\":\"p20299\",\"attributes\":{\"field\":\"Value\",\"title\":\"Value\",\"formatter\":{\"type\":\"object\",\"name\":\"StringFormatter\",\"id\":\"p20297\"},\"editor\":{\"type\":\"object\",\"name\":\"StringEditor\",\"id\":\"p20298\"}}}],\"reorderable\":false}},2,0]]}}]}}],\"defs\":[{\"type\":\"model\",\"name\":\"ReactiveHTML1\"},{\"type\":\"model\",\"name\":\"FlexBox1\",\"properties\":[{\"name\":\"align_content\",\"kind\":\"Any\",\"default\":\"flex-start\"},{\"name\":\"align_items\",\"kind\":\"Any\",\"default\":\"flex-start\"},{\"name\":\"flex_direction\",\"kind\":\"Any\",\"default\":\"row\"},{\"name\":\"flex_wrap\",\"kind\":\"Any\",\"default\":\"wrap\"},{\"name\":\"gap\",\"kind\":\"Any\",\"default\":\"\"},{\"name\":\"justify_content\",\"kind\":\"Any\",\"default\":\"flex-start\"}]},{\"type\":\"model\",\"name\":\"FloatPanel1\",\"properties\":[{\"name\":\"config\",\"kind\":\"Any\",\"default\":{\"type\":\"map\"}},{\"name\":\"contained\",\"kind\":\"Any\",\"default\":true},{\"name\":\"position\",\"kind\":\"Any\",\"default\":\"right-top\"},{\"name\":\"offsetx\",\"kind\":\"Any\",\"default\":null},{\"name\":\"offsety\",\"kind\":\"Any\",\"default\":null},{\"name\":\"theme\",\"kind\":\"Any\",\"default\":\"primary\"},{\"name\":\"status\",\"kind\":\"Any\",\"default\":\"normalized\"}]},{\"type\":\"model\",\"name\":\"GridStack1\",\"properties\":[{\"name\":\"mode\",\"kind\":\"Any\",\"default\":\"warn\"},{\"name\":\"ncols\",\"kind\":\"Any\",\"default\":null},{\"name\":\"nrows\",\"kind\":\"Any\",\"default\":null},{\"name\":\"allow_resize\",\"kind\":\"Any\",\"default\":true},{\"name\":\"allow_drag\",\"kind\":\"Any\",\"default\":true},{\"name\":\"state\",\"kind\":\"Any\",\"default\":[]}]},{\"type\":\"model\",\"name\":\"drag1\",\"properties\":[{\"name\":\"slider_width\",\"kind\":\"Any\",\"default\":5},{\"name\":\"slider_color\",\"kind\":\"Any\",\"default\":\"black\"},{\"name\":\"value\",\"kind\":\"Any\",\"default\":50}]},{\"type\":\"model\",\"name\":\"click1\",\"properties\":[{\"name\":\"terminal_output\",\"kind\":\"Any\",\"default\":\"\"},{\"name\":\"debug_name\",\"kind\":\"Any\",\"default\":\"\"},{\"name\":\"clears\",\"kind\":\"Any\",\"default\":0}]},{\"type\":\"model\",\"name\":\"FastWrapper1\",\"properties\":[{\"name\":\"object\",\"kind\":\"Any\",\"default\":null},{\"name\":\"style\",\"kind\":\"Any\",\"default\":null}]},{\"type\":\"model\",\"name\":\"NotificationAreaBase1\",\"properties\":[{\"name\":\"js_events\",\"kind\":\"Any\",\"default\":{\"type\":\"map\"}},{\"name\":\"position\",\"kind\":\"Any\",\"default\":\"bottom-right\"},{\"name\":\"_clear\",\"kind\":\"Any\",\"default\":0}]},{\"type\":\"model\",\"name\":\"NotificationArea1\",\"properties\":[{\"name\":\"js_events\",\"kind\":\"Any\",\"default\":{\"type\":\"map\"}},{\"name\":\"notifications\",\"kind\":\"Any\",\"default\":[]},{\"name\":\"position\",\"kind\":\"Any\",\"default\":\"bottom-right\"},{\"name\":\"_clear\",\"kind\":\"Any\",\"default\":0},{\"name\":\"types\",\"kind\":\"Any\",\"default\":[{\"type\":\"map\",\"entries\":[[\"type\",\"warning\"],[\"background\",\"#ffc107\"],[\"icon\",{\"type\":\"map\",\"entries\":[[\"className\",\"fas fa-exclamation-triangle\"],[\"tagName\",\"i\"],[\"color\",\"white\"]]}]]},{\"type\":\"map\",\"entries\":[[\"type\",\"info\"],[\"background\",\"#007bff\"],[\"icon\",{\"type\":\"map\",\"entries\":[[\"className\",\"fas fa-info-circle\"],[\"tagName\",\"i\"],[\"color\",\"white\"]]}]]}]}]},{\"type\":\"model\",\"name\":\"Notification\",\"properties\":[{\"name\":\"background\",\"kind\":\"Any\",\"default\":null},{\"name\":\"duration\",\"kind\":\"Any\",\"default\":3000},{\"name\":\"icon\",\"kind\":\"Any\",\"default\":null},{\"name\":\"message\",\"kind\":\"Any\",\"default\":\"\"},{\"name\":\"notification_type\",\"kind\":\"Any\",\"default\":null},{\"name\":\"_destroyed\",\"kind\":\"Any\",\"default\":false}]},{\"type\":\"model\",\"name\":\"TemplateActions1\",\"properties\":[{\"name\":\"open_modal\",\"kind\":\"Any\",\"default\":0},{\"name\":\"close_modal\",\"kind\":\"Any\",\"default\":0}]},{\"type\":\"model\",\"name\":\"BootstrapTemplateActions1\",\"properties\":[{\"name\":\"open_modal\",\"kind\":\"Any\",\"default\":0},{\"name\":\"close_modal\",\"kind\":\"Any\",\"default\":0}]},{\"type\":\"model\",\"name\":\"TemplateEditor1\",\"properties\":[{\"name\":\"layout\",\"kind\":\"Any\",\"default\":[]}]},{\"type\":\"model\",\"name\":\"MaterialTemplateActions1\",\"properties\":[{\"name\":\"open_modal\",\"kind\":\"Any\",\"default\":0},{\"name\":\"close_modal\",\"kind\":\"Any\",\"default\":0}]},{\"type\":\"model\",\"name\":\"ReactiveESM1\"},{\"type\":\"model\",\"name\":\"JSComponent1\"},{\"type\":\"model\",\"name\":\"ReactComponent1\"},{\"type\":\"model\",\"name\":\"AnyWidgetComponent1\"},{\"type\":\"model\",\"name\":\"request_value1\",\"properties\":[{\"name\":\"fill\",\"kind\":\"Any\",\"default\":\"none\"},{\"name\":\"_synced\",\"kind\":\"Any\",\"default\":null},{\"name\":\"_request_sync\",\"kind\":\"Any\",\"default\":0}]}]}};\n",
       "  var render_items = [{\"docid\":\"d0994dda-7df8-4d9b-998c-7371b898c1e7\",\"roots\":{\"p20177\":\"ffe3afae-5137-4111-8bd8-c247d5df0f51\"},\"root_ids\":[\"p20177\"]}];\n",
       "  var docs = Object.values(docs_json)\n",
       "  if (!docs) {\n",
       "    return\n",
       "  }\n",
       "  const py_version = docs[0].version.replace('rc', '-rc.').replace('.dev', '-dev.')\n",
       "  async function embed_document(root) {\n",
       "    var Bokeh = get_bokeh(root)\n",
       "    await Bokeh.embed.embed_items_notebook(docs_json, render_items);\n",
       "    for (const render_item of render_items) {\n",
       "      for (const root_id of render_item.root_ids) {\n",
       "\tconst id_el = document.getElementById(root_id)\n",
       "\tif (id_el.children.length && id_el.children[0].hasAttribute('data-root-id')) {\n",
       "\t  const root_el = id_el.children[0]\n",
       "\t  root_el.id = root_el.id + '-rendered'\n",
       "\t  for (const child of root_el.children) {\n",
       "            // Ensure JupyterLab does not capture keyboard shortcuts\n",
       "            // see: https://jupyterlab.readthedocs.io/en/4.1.x/extension/notebook.html#keyboard-interaction-model\n",
       "\t    child.setAttribute('data-lm-suppress-shortcuts', 'true')\n",
       "\t  }\n",
       "\t}\n",
       "      }\n",
       "    }\n",
       "  }\n",
       "  function get_bokeh(root) {\n",
       "    if (root.Bokeh === undefined) {\n",
       "      return null\n",
       "    } else if (root.Bokeh.version !== py_version) {\n",
       "      if (root.Bokeh.versions === undefined || !root.Bokeh.versions.has(py_version)) {\n",
       "\treturn null\n",
       "      }\n",
       "      return root.Bokeh.versions.get(py_version);\n",
       "    } else if (root.Bokeh.version === py_version) {\n",
       "      return root.Bokeh\n",
       "    }\n",
       "    return null\n",
       "  }\n",
       "  function is_loaded(root) {\n",
       "    var Bokeh = get_bokeh(root)\n",
       "    return (Bokeh != null && Bokeh.Panel !== undefined)\n",
       "  }\n",
       "  if (is_loaded(root)) {\n",
       "    embed_document(root);\n",
       "  } else {\n",
       "    var attempts = 0;\n",
       "    var timer = setInterval(function(root) {\n",
       "      if (is_loaded(root)) {\n",
       "        clearInterval(timer);\n",
       "        embed_document(root);\n",
       "      } else if (document.readyState == \"complete\") {\n",
       "        attempts++;\n",
       "        if (attempts > 200) {\n",
       "          clearInterval(timer);\n",
       "\t  var Bokeh = get_bokeh(root)\n",
       "\t  if (Bokeh == null || Bokeh.Panel == null) {\n",
       "            console.warn(\"Panel: ERROR: Unable to run Panel code because Bokeh or Panel library is missing\");\n",
       "\t  } else {\n",
       "\t    console.warn(\"Panel: WARNING: Attempting to render but not all required libraries could be resolved.\")\n",
       "\t    embed_document(root)\n",
       "\t  }\n",
       "        }\n",
       "      }\n",
       "    }, 25, root)\n",
       "  }\n",
       "})(window);</script>"
      ],
      "text/plain": [
       ":Layout\n",
       "   .Curve.I :Curve   [microsteps]   (amplitude)\n",
       "   .Bars.I  :Bars   [frequency]   (y)\n",
       "   .Table.I :Table   [Register]   (Value)"
      ]
     },
     "execution_count": 49,
     "metadata": {
      "application/vnd.holoviews_exec.v0+json": {
       "id": "p20177"
      }
     },
     "output_type": "execute_result"
    }
   ],
   "source": [
    "lut = LUT.CreateFromRegisters(MSLUT, MSLUTSEL, MSLUTSTART)\n",
    "wave = lut.GetWaveform()\n",
    "\n",
    "wave_plot = hv.Curve(wave, kdims='microsteps', vdims='amplitude').opts(\n",
    "    title=f\"Microstep full wave, modulation amplitude = {modulation_amplitude}\",\n",
    "    xlabel=\"Microstep\",\n",
    "    ylabel=\"Sin Wave\"\n",
    ")\n",
    "\n",
    "registers = hv.Table({\n",
    "    'Register': [\"MSLUT[0]\", \"MSLUT[1]\", \"MSLUT[2]\", \"MSLUT[3]\", \"MSLUT[4]\", \"MSLUT[5]\", \"MSLUT[6]\", \"MSLUT[7]\", \"MSLUTSEL\", \"MSLUTSTART\"],\n",
    "    'Value': [hex(mslut) for mslut in lut.mslut] + [lut.mslutsel, lut.mslutstart]},\n",
    "    kdims=['Register'], vdims=['Value'])\n",
    "\n",
    "fft_plot = hv.Bars(lut.GetFFT(wave), kdims='frequency').opts(\n",
    "    xlabel=\"Frequency\",\n",
    "    ylabel=\"Amplitude\",\n",
    "    xlim=(0, max_freq := 50),\n",
    "    xticks=min(int(max_freq), 50)\n",
    ")\n",
    "\n",
    "plot = hv.Layout(wave_plot + fft_plot + registers).cols(1)\n",
    "\n",
    "hv.save(plot, f\"graphs/{wave_plot.opts.get().kwargs['title']}.html\")\n",
    "plot"
   ]
  },
  {
   "cell_type": "code",
   "execution_count": 30,
   "metadata": {},
   "outputs": [
    {
     "data": {
      "text/plain": [
       "[3, 2, 1]"
      ]
     },
     "execution_count": 30,
     "metadata": {},
     "output_type": "execute_result"
    }
   ],
   "source": [
    "a = [1,2,3,4]\n",
    "a[-2::-1]"
   ]
  },
  {
   "cell_type": "markdown",
   "metadata": {},
   "source": [
    "## Plot wave from function"
   ]
  },
  {
   "cell_type": "code",
   "execution_count": 47,
   "metadata": {},
   "outputs": [
    {
     "data": {
      "application/vnd.jupyter.widget-view+json": {
       "model_id": "01c2e2f354ea4207b14671b328933b65",
       "version_major": 2,
       "version_minor": 0
      },
      "text/plain": [
       "BokehModel(combine_events=True, render_bundle={'docs_json': {'117d1217-5b6f-45b5-81f9-694ef0fce6a5': {'version…"
      ]
     },
     "execution_count": 47,
     "metadata": {},
     "output_type": "execute_result"
    },
    {
     "name": "stdout",
     "output_type": "stream",
     "text": [
      "Invalid segment base inclination\n",
      "Invalid segment base inclination\n",
      "Invalid segment base inclination\n",
      "Can not fit function\n",
      "Can not fit function\n",
      "Can not fit function\n",
      "Invalid segment base inclination\n",
      "Invalid segment base inclination\n",
      "Invalid segment base inclination\n",
      "Invalid segment base inclination\n",
      "Invalid segment base inclination\n",
      "Invalid segment base inclination\n",
      "Invalid segment base inclination\n",
      "Invalid segment base inclination\n",
      "Invalid segment base inclination\n",
      "Can not fit function\n",
      "Can not fit function\n",
      "Can not fit function\n",
      "Invalid segment base inclination\n",
      "Invalid segment base inclination\n",
      "Invalid segment base inclination\n",
      "Can not fit function\n"
     ]
    }
   ],
   "source": [
    "def CreateCurve(modulation_amplitude: int = 0):\n",
    "    def wave_function(x: int):\n",
    "        return np.sin(2*np.pi*x/1024+np.pi/1024) + modulation_amplitude * np.sin(3*2*np.pi*x/1024) + modulation_amplitude * np.sin(5*2*np.pi*x/1024)\n",
    "    \n",
    "    expected_wave_plot = hv.Curve([wave_function(i) * 248 - 1 for i in range(1024)], label=\"Expected wave\")\n",
    "\n",
    "    try:\n",
    "        lut = LUT.CreateFromFunction(wave_function, amplitude_scaler=248, offset=-1)\n",
    "        wave = lut.GetWaveform()\n",
    "\n",
    "        fft_plot = hv.Bars(lut.GetFFT(wave), kdims='frequency', vdims='amplitude').opts(\n",
    "            xlabel=\"Frequency\",\n",
    "            ylabel=\"Amplitude\",\n",
    "            xlim=(0, max_freq := 50),\n",
    "            xticks=min(int(max_freq), 50)\n",
    "        )\n",
    "\n",
    "        registers = hv.Table({\n",
    "            'Register': [\"MSLUT[0]\", \"MSLUT[1]\", \"MSLUT[2]\", \"MSLUT[3]\", \"MSLUT[4]\", \"MSLUT[5]\", \"MSLUT[6]\", \"MSLUT[7]\", \"MSLUTSEL\", \"MSLUTSTART\"],\n",
    "            'Value': [hex(mslut) for mslut in lut.mslut] + [hex(lut.mslutsel), hex(lut.mslutstart)]},\n",
    "            kdims=['Register'], vdims=['Value'])\n",
    "    except Exception as e:\n",
    "        print(e)\n",
    "        wave = []\n",
    "        fft_plot = hv.Bars((0, 0), kdims='frequency', vdims='amplitude')\n",
    "        registers = hv.Table({'Register': [], 'Value': []}, 'Register', 'Value')\n",
    "\n",
    "\n",
    "    return hv.Layout(expected_wave_plot * hv.Curve(wave, label=\"Actual wave\") + fft_plot + registers).cols(1)\n",
    "\n",
    "\n",
    "dmap = hv.DynamicMap(CreateCurve, kdims=['modulation_amplitude'])\n",
    "dmap = dmap.redim.range(modulation_amplitude=(-0.5, 0.5))\n",
    "dmap = dmap.redim.step(modulation_amplitude=0.01)\n",
    "dmap = dmap.redim.default(modulation_amplitude=0)\n",
    "dmap = dmap.opts(\n",
    "    opts.Curve(\n",
    "        title=f\"Microstep full wave\",\n",
    "        xlabel=\"Microstep\",\n",
    "        ylabel=\"Sin Wave\",\n",
    "        xlim=(0, 1024),\n",
    "        ylim=(-248, 248)\n",
    "    ))\n",
    "dmap"
   ]
  }
 ],
 "metadata": {
  "kernelspec": {
   "display_name": "env",
   "language": "python",
   "name": "python3"
  },
  "language_info": {
   "codemirror_mode": {
    "name": "ipython",
    "version": 3
   },
   "file_extension": ".py",
   "mimetype": "text/x-python",
   "name": "python",
   "nbconvert_exporter": "python",
   "pygments_lexer": "ipython3",
   "version": "3.11.9"
  }
 },
 "nbformat": 4,
 "nbformat_minor": 2
}
